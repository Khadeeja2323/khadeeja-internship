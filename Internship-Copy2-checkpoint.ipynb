{
 "cells": [
  {
   "cell_type": "code",
   "execution_count": 1,
   "id": "d4dbd511",
   "metadata": {},
   "outputs": [
    {
     "name": "stdout",
     "output_type": "stream",
     "text": [
      "CSV file 'Drug_Effects.csv' has been created.\n"
     ]
    }
   ],
   "source": [
    "import csv\n",
    "import numpy as np\n",
    "from faker import Faker\n",
    "\n",
    "fake = Faker()\n",
    "\n",
    "# Create an empty list to store patient data\n",
    "patients = []\n",
    "\n",
    "# Generate data for 400,000 patients\n",
    "for _ in range(400000):\n",
    "    name = fake.name()\n",
    "    age = np.random.randint(18, 90)\n",
    "    gender = fake.random_element(elements=('Male', 'Female'))\n",
    "    race = fake.random_element(elements=('Caucasian', 'African American', 'Asian', 'Hispanic', 'Other'))\n",
    "    drug=fake.random_element(elements=('25dph-7.5peh','warfarin (bulk) 100 % powder','chantix','12 hour nasal relief spray ,non-aerosol','wymzya fe','pyrogallol crystals','lyza','lysiplex plus liquid','lysteda','pyrithione zinc shampoo'))\n",
    "    side_effects = ', '.join(fake.random_elements(elements=('Headache', 'Nausea', 'Fatigue', 'Fever','Drowsiness','Dizziness','dry mouth /nose/throat','upset stomach','constipation','Bloating'), unique=True))\n",
    "\n",
    "    # Append patient data to the list\n",
    "    patients.append([name, age, gender, race, drug, side_effects])\n",
    "\n",
    "# Define the CSV file name\n",
    "csv_file_name = 'Drug_Effects.csv'\n",
    "\n",
    "# Write the data to the CSV file\n",
    "with open(csv_file_name, mode='w', newline='') as csv_file:\n",
    "    csv_writer = csv.writer(csv_file)\n",
    "    \n",
    "    # Write the header row\n",
    "    csv_writer.writerow(['Name', 'Age', 'Gender', 'Race','Drug', 'Side Effects'])\n",
    "    \n",
    "    # Write the patient data\n",
    "    csv_writer.writerows(patients)\n",
    "\n",
    "print(f\"CSV file '{csv_file_name}' has been created.\")\n"
   ]
  },
  {
   "cell_type": "code",
   "execution_count": 2,
   "id": "13cf19b9",
   "metadata": {},
   "outputs": [],
   "source": [
    "import pandas as pd"
   ]
  },
  {
   "cell_type": "code",
   "execution_count": 3,
   "id": "43860777",
   "metadata": {},
   "outputs": [],
   "source": [
    "csv_file_name='Drug_Effects.csv'\n",
    "data=pd.read_csv(csv_file_name)"
   ]
  },
  {
   "cell_type": "code",
   "execution_count": 4,
   "id": "09dad1c3",
   "metadata": {},
   "outputs": [
    {
     "data": {
      "text/html": [
       "<div>\n",
       "<style scoped>\n",
       "    .dataframe tbody tr th:only-of-type {\n",
       "        vertical-align: middle;\n",
       "    }\n",
       "\n",
       "    .dataframe tbody tr th {\n",
       "        vertical-align: top;\n",
       "    }\n",
       "\n",
       "    .dataframe thead th {\n",
       "        text-align: right;\n",
       "    }\n",
       "</style>\n",
       "<table border=\"1\" class=\"dataframe\">\n",
       "  <thead>\n",
       "    <tr style=\"text-align: right;\">\n",
       "      <th></th>\n",
       "      <th>Name</th>\n",
       "      <th>Age</th>\n",
       "      <th>Gender</th>\n",
       "      <th>Race</th>\n",
       "      <th>Drug</th>\n",
       "      <th>Side Effects</th>\n",
       "    </tr>\n",
       "  </thead>\n",
       "  <tbody>\n",
       "    <tr>\n",
       "      <th>0</th>\n",
       "      <td>Nicole Dalton</td>\n",
       "      <td>70</td>\n",
       "      <td>Female</td>\n",
       "      <td>Other</td>\n",
       "      <td>wymzya fe</td>\n",
       "      <td>dry mouth /nose/throat, Dizziness</td>\n",
       "    </tr>\n",
       "    <tr>\n",
       "      <th>1</th>\n",
       "      <td>Rebecca Marks</td>\n",
       "      <td>85</td>\n",
       "      <td>Female</td>\n",
       "      <td>Asian</td>\n",
       "      <td>pyrogallol crystals</td>\n",
       "      <td>Fatigue, Nausea, Bloating, Fever</td>\n",
       "    </tr>\n",
       "    <tr>\n",
       "      <th>2</th>\n",
       "      <td>Victoria Pope</td>\n",
       "      <td>82</td>\n",
       "      <td>Female</td>\n",
       "      <td>Caucasian</td>\n",
       "      <td>lysiplex plus liquid</td>\n",
       "      <td>Bloating, dry mouth /nose/throat, Nausea, Drow...</td>\n",
       "    </tr>\n",
       "    <tr>\n",
       "      <th>3</th>\n",
       "      <td>Brandon Costa</td>\n",
       "      <td>46</td>\n",
       "      <td>Male</td>\n",
       "      <td>Other</td>\n",
       "      <td>lysiplex plus liquid</td>\n",
       "      <td>constipation, Dizziness, Drowsiness, Fatigue, ...</td>\n",
       "    </tr>\n",
       "    <tr>\n",
       "      <th>4</th>\n",
       "      <td>Zachary Butler</td>\n",
       "      <td>40</td>\n",
       "      <td>Male</td>\n",
       "      <td>Other</td>\n",
       "      <td>lysteda</td>\n",
       "      <td>Fever, dry mouth /nose/throat, Nausea, Fatigue...</td>\n",
       "    </tr>\n",
       "  </tbody>\n",
       "</table>\n",
       "</div>"
      ],
      "text/plain": [
       "             Name  Age  Gender       Race                  Drug  \\\n",
       "0   Nicole Dalton   70  Female      Other             wymzya fe   \n",
       "1   Rebecca Marks   85  Female      Asian   pyrogallol crystals   \n",
       "2   Victoria Pope   82  Female  Caucasian  lysiplex plus liquid   \n",
       "3   Brandon Costa   46    Male      Other  lysiplex plus liquid   \n",
       "4  Zachary Butler   40    Male      Other               lysteda   \n",
       "\n",
       "                                        Side Effects  \n",
       "0                  dry mouth /nose/throat, Dizziness  \n",
       "1                   Fatigue, Nausea, Bloating, Fever  \n",
       "2  Bloating, dry mouth /nose/throat, Nausea, Drow...  \n",
       "3  constipation, Dizziness, Drowsiness, Fatigue, ...  \n",
       "4  Fever, dry mouth /nose/throat, Nausea, Fatigue...  "
      ]
     },
     "execution_count": 4,
     "metadata": {},
     "output_type": "execute_result"
    }
   ],
   "source": [
    "##preview the data\n",
    "data.head()"
   ]
  },
  {
   "cell_type": "code",
   "execution_count": 5,
   "id": "7f21df26",
   "metadata": {},
   "outputs": [
    {
     "data": {
      "text/plain": [
       "(400000, 6)"
      ]
     },
     "execution_count": 5,
     "metadata": {},
     "output_type": "execute_result"
    }
   ],
   "source": [
    "##total rows and columns\n",
    "data.shape"
   ]
  },
  {
   "cell_type": "code",
   "execution_count": 6,
   "id": "718062d3",
   "metadata": {},
   "outputs": [
    {
     "name": "stdout",
     "output_type": "stream",
     "text": [
      "<class 'pandas.core.frame.DataFrame'>\n",
      "RangeIndex: 400000 entries, 0 to 399999\n",
      "Data columns (total 6 columns):\n",
      " #   Column        Non-Null Count   Dtype \n",
      "---  ------        --------------   ----- \n",
      " 0   Name          400000 non-null  object\n",
      " 1   Age           400000 non-null  int64 \n",
      " 2   Gender        400000 non-null  object\n",
      " 3   Race          400000 non-null  object\n",
      " 4   Drug          400000 non-null  object\n",
      " 5   Side Effects  400000 non-null  object\n",
      "dtypes: int64(1), object(5)\n",
      "memory usage: 18.3+ MB\n"
     ]
    }
   ],
   "source": [
    "data.info()"
   ]
  },
  {
   "cell_type": "code",
   "execution_count": 7,
   "id": "94a61263",
   "metadata": {},
   "outputs": [
    {
     "data": {
      "text/html": [
       "<div>\n",
       "<style scoped>\n",
       "    .dataframe tbody tr th:only-of-type {\n",
       "        vertical-align: middle;\n",
       "    }\n",
       "\n",
       "    .dataframe tbody tr th {\n",
       "        vertical-align: top;\n",
       "    }\n",
       "\n",
       "    .dataframe thead th {\n",
       "        text-align: right;\n",
       "    }\n",
       "</style>\n",
       "<table border=\"1\" class=\"dataframe\">\n",
       "  <thead>\n",
       "    <tr style=\"text-align: right;\">\n",
       "      <th></th>\n",
       "      <th>Age</th>\n",
       "    </tr>\n",
       "  </thead>\n",
       "  <tbody>\n",
       "    <tr>\n",
       "      <th>count</th>\n",
       "      <td>400000.000000</td>\n",
       "    </tr>\n",
       "    <tr>\n",
       "      <th>mean</th>\n",
       "      <td>53.533290</td>\n",
       "    </tr>\n",
       "    <tr>\n",
       "      <th>std</th>\n",
       "      <td>20.776239</td>\n",
       "    </tr>\n",
       "    <tr>\n",
       "      <th>min</th>\n",
       "      <td>18.000000</td>\n",
       "    </tr>\n",
       "    <tr>\n",
       "      <th>25%</th>\n",
       "      <td>36.000000</td>\n",
       "    </tr>\n",
       "    <tr>\n",
       "      <th>50%</th>\n",
       "      <td>54.000000</td>\n",
       "    </tr>\n",
       "    <tr>\n",
       "      <th>75%</th>\n",
       "      <td>72.000000</td>\n",
       "    </tr>\n",
       "    <tr>\n",
       "      <th>max</th>\n",
       "      <td>89.000000</td>\n",
       "    </tr>\n",
       "  </tbody>\n",
       "</table>\n",
       "</div>"
      ],
      "text/plain": [
       "                 Age\n",
       "count  400000.000000\n",
       "mean       53.533290\n",
       "std        20.776239\n",
       "min        18.000000\n",
       "25%        36.000000\n",
       "50%        54.000000\n",
       "75%        72.000000\n",
       "max        89.000000"
      ]
     },
     "execution_count": 7,
     "metadata": {},
     "output_type": "execute_result"
    }
   ],
   "source": [
    "##summary statistics\n",
    "data.describe()"
   ]
  },
  {
   "cell_type": "code",
   "execution_count": 8,
   "id": "8ae2cb58",
   "metadata": {},
   "outputs": [
    {
     "data": {
      "text/plain": [
       "Name            object\n",
       "Age              int64\n",
       "Gender          object\n",
       "Race            object\n",
       "Drug            object\n",
       "Side Effects    object\n",
       "dtype: object"
      ]
     },
     "execution_count": 8,
     "metadata": {},
     "output_type": "execute_result"
    }
   ],
   "source": [
    "##check datatypes\n",
    "data.dtypes"
   ]
  },
  {
   "cell_type": "code",
   "execution_count": 9,
   "id": "db58ec47",
   "metadata": {},
   "outputs": [
    {
     "data": {
      "text/plain": [
       "Name            0\n",
       "Age             0\n",
       "Gender          0\n",
       "Race            0\n",
       "Drug            0\n",
       "Side Effects    0\n",
       "dtype: int64"
      ]
     },
     "execution_count": 9,
     "metadata": {},
     "output_type": "execute_result"
    }
   ],
   "source": [
    "##checking missing values\n",
    "data.isnull().sum()"
   ]
  },
  {
   "cell_type": "code",
   "execution_count": 10,
   "id": "a69adbee",
   "metadata": {},
   "outputs": [
    {
     "data": {
      "text/html": [
       "<div>\n",
       "<style scoped>\n",
       "    .dataframe tbody tr th:only-of-type {\n",
       "        vertical-align: middle;\n",
       "    }\n",
       "\n",
       "    .dataframe tbody tr th {\n",
       "        vertical-align: top;\n",
       "    }\n",
       "\n",
       "    .dataframe thead th {\n",
       "        text-align: right;\n",
       "    }\n",
       "</style>\n",
       "<table border=\"1\" class=\"dataframe\">\n",
       "  <thead>\n",
       "    <tr style=\"text-align: right;\">\n",
       "      <th></th>\n",
       "      <th>Name</th>\n",
       "      <th>Age</th>\n",
       "      <th>Gender</th>\n",
       "      <th>Race</th>\n",
       "      <th>Drug</th>\n",
       "      <th>Side Effects</th>\n",
       "    </tr>\n",
       "  </thead>\n",
       "  <tbody>\n",
       "    <tr>\n",
       "      <th>0</th>\n",
       "      <td>Nicole Dalton</td>\n",
       "      <td>70</td>\n",
       "      <td>Female</td>\n",
       "      <td>Other</td>\n",
       "      <td>wymzya fe</td>\n",
       "      <td>dry mouth /nose/throat, Dizziness</td>\n",
       "    </tr>\n",
       "    <tr>\n",
       "      <th>1</th>\n",
       "      <td>Rebecca Marks</td>\n",
       "      <td>85</td>\n",
       "      <td>Female</td>\n",
       "      <td>Asian</td>\n",
       "      <td>pyrogallol crystals</td>\n",
       "      <td>Fatigue, Nausea, Bloating, Fever</td>\n",
       "    </tr>\n",
       "    <tr>\n",
       "      <th>2</th>\n",
       "      <td>Victoria Pope</td>\n",
       "      <td>82</td>\n",
       "      <td>Female</td>\n",
       "      <td>Caucasian</td>\n",
       "      <td>lysiplex plus liquid</td>\n",
       "      <td>Bloating, dry mouth /nose/throat, Nausea, Drow...</td>\n",
       "    </tr>\n",
       "    <tr>\n",
       "      <th>3</th>\n",
       "      <td>Brandon Costa</td>\n",
       "      <td>46</td>\n",
       "      <td>Male</td>\n",
       "      <td>Other</td>\n",
       "      <td>lysiplex plus liquid</td>\n",
       "      <td>constipation, Dizziness, Drowsiness, Fatigue, ...</td>\n",
       "    </tr>\n",
       "    <tr>\n",
       "      <th>4</th>\n",
       "      <td>Zachary Butler</td>\n",
       "      <td>40</td>\n",
       "      <td>Male</td>\n",
       "      <td>Other</td>\n",
       "      <td>lysteda</td>\n",
       "      <td>Fever, dry mouth /nose/throat, Nausea, Fatigue...</td>\n",
       "    </tr>\n",
       "    <tr>\n",
       "      <th>...</th>\n",
       "      <td>...</td>\n",
       "      <td>...</td>\n",
       "      <td>...</td>\n",
       "      <td>...</td>\n",
       "      <td>...</td>\n",
       "      <td>...</td>\n",
       "    </tr>\n",
       "    <tr>\n",
       "      <th>399995</th>\n",
       "      <td>Stephen Barker</td>\n",
       "      <td>34</td>\n",
       "      <td>Female</td>\n",
       "      <td>Asian</td>\n",
       "      <td>12 hour nasal relief spray ,non-aerosol</td>\n",
       "      <td>Nausea, dry mouth /nose/throat, Bloating</td>\n",
       "    </tr>\n",
       "    <tr>\n",
       "      <th>399996</th>\n",
       "      <td>Paul Harrison</td>\n",
       "      <td>51</td>\n",
       "      <td>Female</td>\n",
       "      <td>Asian</td>\n",
       "      <td>chantix</td>\n",
       "      <td>dry mouth /nose/throat, Drowsiness, Bloating, ...</td>\n",
       "    </tr>\n",
       "    <tr>\n",
       "      <th>399997</th>\n",
       "      <td>Derrick Mcdonald</td>\n",
       "      <td>87</td>\n",
       "      <td>Female</td>\n",
       "      <td>Other</td>\n",
       "      <td>lyza</td>\n",
       "      <td>Bloating, constipation, Fatigue, dry mouth /no...</td>\n",
       "    </tr>\n",
       "    <tr>\n",
       "      <th>399998</th>\n",
       "      <td>Anthony Mccormick</td>\n",
       "      <td>58</td>\n",
       "      <td>Male</td>\n",
       "      <td>Other</td>\n",
       "      <td>lysteda</td>\n",
       "      <td>Headache, Nausea, Bloating, Drowsiness, Fever,...</td>\n",
       "    </tr>\n",
       "    <tr>\n",
       "      <th>399999</th>\n",
       "      <td>Mathew Davis</td>\n",
       "      <td>26</td>\n",
       "      <td>Male</td>\n",
       "      <td>Hispanic</td>\n",
       "      <td>pyrithione zinc shampoo</td>\n",
       "      <td>dry mouth /nose/throat, Dizziness, Fatigue, Fe...</td>\n",
       "    </tr>\n",
       "  </tbody>\n",
       "</table>\n",
       "<p>400000 rows × 6 columns</p>\n",
       "</div>"
      ],
      "text/plain": [
       "                     Name  Age  Gender       Race  \\\n",
       "0           Nicole Dalton   70  Female      Other   \n",
       "1           Rebecca Marks   85  Female      Asian   \n",
       "2           Victoria Pope   82  Female  Caucasian   \n",
       "3           Brandon Costa   46    Male      Other   \n",
       "4          Zachary Butler   40    Male      Other   \n",
       "...                   ...  ...     ...        ...   \n",
       "399995     Stephen Barker   34  Female      Asian   \n",
       "399996      Paul Harrison   51  Female      Asian   \n",
       "399997   Derrick Mcdonald   87  Female      Other   \n",
       "399998  Anthony Mccormick   58    Male      Other   \n",
       "399999       Mathew Davis   26    Male   Hispanic   \n",
       "\n",
       "                                           Drug  \\\n",
       "0                                     wymzya fe   \n",
       "1                           pyrogallol crystals   \n",
       "2                          lysiplex plus liquid   \n",
       "3                          lysiplex plus liquid   \n",
       "4                                       lysteda   \n",
       "...                                         ...   \n",
       "399995  12 hour nasal relief spray ,non-aerosol   \n",
       "399996                                  chantix   \n",
       "399997                                     lyza   \n",
       "399998                                  lysteda   \n",
       "399999                  pyrithione zinc shampoo   \n",
       "\n",
       "                                             Side Effects  \n",
       "0                       dry mouth /nose/throat, Dizziness  \n",
       "1                        Fatigue, Nausea, Bloating, Fever  \n",
       "2       Bloating, dry mouth /nose/throat, Nausea, Drow...  \n",
       "3       constipation, Dizziness, Drowsiness, Fatigue, ...  \n",
       "4       Fever, dry mouth /nose/throat, Nausea, Fatigue...  \n",
       "...                                                   ...  \n",
       "399995           Nausea, dry mouth /nose/throat, Bloating  \n",
       "399996  dry mouth /nose/throat, Drowsiness, Bloating, ...  \n",
       "399997  Bloating, constipation, Fatigue, dry mouth /no...  \n",
       "399998  Headache, Nausea, Bloating, Drowsiness, Fever,...  \n",
       "399999  dry mouth /nose/throat, Dizziness, Fatigue, Fe...  \n",
       "\n",
       "[400000 rows x 6 columns]"
      ]
     },
     "execution_count": 10,
     "metadata": {},
     "output_type": "execute_result"
    }
   ],
   "source": [
    "##dropping duplicate values\n",
    "data=data.drop_duplicates()\n",
    "data"
   ]
  },
  {
   "cell_type": "code",
   "execution_count": 11,
   "id": "f7bba936",
   "metadata": {},
   "outputs": [
    {
     "data": {
      "text/plain": [
       "(400000, 6)"
      ]
     },
     "execution_count": 11,
     "metadata": {},
     "output_type": "execute_result"
    }
   ],
   "source": [
    "data.shape"
   ]
  },
  {
   "cell_type": "code",
   "execution_count": 12,
   "id": "abc5ab8c",
   "metadata": {},
   "outputs": [
    {
     "data": {
      "text/plain": [
       "Name            192775\n",
       "Age                 72\n",
       "Gender               2\n",
       "Race                 5\n",
       "Drug                10\n",
       "Side Effects    221667\n",
       "dtype: int64"
      ]
     },
     "execution_count": 12,
     "metadata": {},
     "output_type": "execute_result"
    }
   ],
   "source": [
    "data.nunique()"
   ]
  },
  {
   "cell_type": "code",
   "execution_count": 13,
   "id": "56eb67e3",
   "metadata": {},
   "outputs": [
    {
     "data": {
      "text/html": [
       "<div>\n",
       "<style scoped>\n",
       "    .dataframe tbody tr th:only-of-type {\n",
       "        vertical-align: middle;\n",
       "    }\n",
       "\n",
       "    .dataframe tbody tr th {\n",
       "        vertical-align: top;\n",
       "    }\n",
       "\n",
       "    .dataframe thead th {\n",
       "        text-align: right;\n",
       "    }\n",
       "</style>\n",
       "<table border=\"1\" class=\"dataframe\">\n",
       "  <thead>\n",
       "    <tr style=\"text-align: right;\">\n",
       "      <th></th>\n",
       "      <th>Name</th>\n",
       "      <th>Age</th>\n",
       "      <th>Gender</th>\n",
       "      <th>Race</th>\n",
       "      <th>Drug</th>\n",
       "      <th>Side Effects</th>\n",
       "    </tr>\n",
       "  </thead>\n",
       "  <tbody>\n",
       "    <tr>\n",
       "      <th>222334</th>\n",
       "      <td>Katie Petty</td>\n",
       "      <td>18</td>\n",
       "      <td>Female</td>\n",
       "      <td>African American</td>\n",
       "      <td>warfarin (bulk) 100 % powder</td>\n",
       "      <td>Nausea, upset stomach, Dizziness, dry mouth /n...</td>\n",
       "    </tr>\n",
       "    <tr>\n",
       "      <th>238575</th>\n",
       "      <td>Michael White</td>\n",
       "      <td>18</td>\n",
       "      <td>Male</td>\n",
       "      <td>Caucasian</td>\n",
       "      <td>12 hour nasal relief spray ,non-aerosol</td>\n",
       "      <td>upset stomach, Fever, constipation, Drowsiness...</td>\n",
       "    </tr>\n",
       "    <tr>\n",
       "      <th>57901</th>\n",
       "      <td>Lindsay Smith</td>\n",
       "      <td>18</td>\n",
       "      <td>Female</td>\n",
       "      <td>Caucasian</td>\n",
       "      <td>pyrogallol crystals</td>\n",
       "      <td>upset stomach, Fatigue, Headache, Dizziness, B...</td>\n",
       "    </tr>\n",
       "    <tr>\n",
       "      <th>57900</th>\n",
       "      <td>Jimmy Jimenez</td>\n",
       "      <td>18</td>\n",
       "      <td>Female</td>\n",
       "      <td>Caucasian</td>\n",
       "      <td>wymzya fe</td>\n",
       "      <td>Dizziness, Fatigue, Drowsiness, upset stomach,...</td>\n",
       "    </tr>\n",
       "    <tr>\n",
       "      <th>361115</th>\n",
       "      <td>Robert Pena</td>\n",
       "      <td>18</td>\n",
       "      <td>Male</td>\n",
       "      <td>Asian</td>\n",
       "      <td>12 hour nasal relief spray ,non-aerosol</td>\n",
       "      <td>constipation, Bloating, Fever</td>\n",
       "    </tr>\n",
       "  </tbody>\n",
       "</table>\n",
       "</div>"
      ],
      "text/plain": [
       "                 Name  Age  Gender              Race  \\\n",
       "222334    Katie Petty   18  Female  African American   \n",
       "238575  Michael White   18    Male         Caucasian   \n",
       "57901   Lindsay Smith   18  Female         Caucasian   \n",
       "57900   Jimmy Jimenez   18  Female         Caucasian   \n",
       "361115    Robert Pena   18    Male             Asian   \n",
       "\n",
       "                                           Drug  \\\n",
       "222334             warfarin (bulk) 100 % powder   \n",
       "238575  12 hour nasal relief spray ,non-aerosol   \n",
       "57901                       pyrogallol crystals   \n",
       "57900                                 wymzya fe   \n",
       "361115  12 hour nasal relief spray ,non-aerosol   \n",
       "\n",
       "                                             Side Effects  \n",
       "222334  Nausea, upset stomach, Dizziness, dry mouth /n...  \n",
       "238575  upset stomach, Fever, constipation, Drowsiness...  \n",
       "57901   upset stomach, Fatigue, Headache, Dizziness, B...  \n",
       "57900   Dizziness, Fatigue, Drowsiness, upset stomach,...  \n",
       "361115                      constipation, Bloating, Fever  "
      ]
     },
     "execution_count": 13,
     "metadata": {},
     "output_type": "execute_result"
    }
   ],
   "source": [
    "data.sort_values(by=\"Age\",ascending=True).head()"
   ]
  },
  {
   "cell_type": "code",
   "execution_count": 14,
   "id": "9b4adcaf",
   "metadata": {},
   "outputs": [
    {
     "data": {
      "text/html": [
       "<div>\n",
       "<style scoped>\n",
       "    .dataframe tbody tr th:only-of-type {\n",
       "        vertical-align: middle;\n",
       "    }\n",
       "\n",
       "    .dataframe tbody tr th {\n",
       "        vertical-align: top;\n",
       "    }\n",
       "\n",
       "    .dataframe thead th {\n",
       "        text-align: right;\n",
       "    }\n",
       "</style>\n",
       "<table border=\"1\" class=\"dataframe\">\n",
       "  <thead>\n",
       "    <tr style=\"text-align: right;\">\n",
       "      <th></th>\n",
       "      <th>Name</th>\n",
       "      <th>Age</th>\n",
       "      <th>Gender</th>\n",
       "      <th>Race</th>\n",
       "      <th>Drug</th>\n",
       "      <th>Side Effects</th>\n",
       "    </tr>\n",
       "  </thead>\n",
       "  <tbody>\n",
       "    <tr>\n",
       "      <th>108270</th>\n",
       "      <td>Aaron Acosta</td>\n",
       "      <td>58</td>\n",
       "      <td>Female</td>\n",
       "      <td>Asian</td>\n",
       "      <td>pyrogallol crystals</td>\n",
       "      <td>upset stomach, Nausea</td>\n",
       "    </tr>\n",
       "    <tr>\n",
       "      <th>100765</th>\n",
       "      <td>Aaron Acosta</td>\n",
       "      <td>84</td>\n",
       "      <td>Male</td>\n",
       "      <td>Other</td>\n",
       "      <td>wymzya fe</td>\n",
       "      <td>Drowsiness, Fever, Dizziness</td>\n",
       "    </tr>\n",
       "    <tr>\n",
       "      <th>327012</th>\n",
       "      <td>Aaron Adams</td>\n",
       "      <td>52</td>\n",
       "      <td>Male</td>\n",
       "      <td>Caucasian</td>\n",
       "      <td>warfarin (bulk) 100 % powder</td>\n",
       "      <td>Headache, Dizziness, Fatigue, Fever, dry mouth...</td>\n",
       "    </tr>\n",
       "    <tr>\n",
       "      <th>40059</th>\n",
       "      <td>Aaron Adams</td>\n",
       "      <td>22</td>\n",
       "      <td>Male</td>\n",
       "      <td>Other</td>\n",
       "      <td>pyrithione zinc shampoo</td>\n",
       "      <td>Nausea, Dizziness, Headache, constipation</td>\n",
       "    </tr>\n",
       "    <tr>\n",
       "      <th>366290</th>\n",
       "      <td>Aaron Adams</td>\n",
       "      <td>83</td>\n",
       "      <td>Female</td>\n",
       "      <td>Caucasian</td>\n",
       "      <td>pyrogallol crystals</td>\n",
       "      <td>Bloating, Fever, constipation, Drowsiness, Hea...</td>\n",
       "    </tr>\n",
       "  </tbody>\n",
       "</table>\n",
       "</div>"
      ],
      "text/plain": [
       "                Name  Age  Gender       Race                          Drug  \\\n",
       "108270  Aaron Acosta   58  Female      Asian           pyrogallol crystals   \n",
       "100765  Aaron Acosta   84    Male      Other                     wymzya fe   \n",
       "327012   Aaron Adams   52    Male  Caucasian  warfarin (bulk) 100 % powder   \n",
       "40059    Aaron Adams   22    Male      Other       pyrithione zinc shampoo   \n",
       "366290   Aaron Adams   83  Female  Caucasian           pyrogallol crystals   \n",
       "\n",
       "                                             Side Effects  \n",
       "108270                              upset stomach, Nausea  \n",
       "100765                       Drowsiness, Fever, Dizziness  \n",
       "327012  Headache, Dizziness, Fatigue, Fever, dry mouth...  \n",
       "40059           Nausea, Dizziness, Headache, constipation  \n",
       "366290  Bloating, Fever, constipation, Drowsiness, Hea...  "
      ]
     },
     "execution_count": 14,
     "metadata": {},
     "output_type": "execute_result"
    }
   ],
   "source": [
    "data.sort_values(by=\"Name\",ascending=True).head()"
   ]
  },
  {
   "cell_type": "code",
   "execution_count": 15,
   "id": "1b3307cf",
   "metadata": {},
   "outputs": [
    {
     "data": {
      "image/png": "[encoded data removed]",
      "text/plain": [
       "<Figure size 640x480 with 1 Axes>"
      ]
     },
     "metadata": {},
     "output_type": "display_data"
    }
   ],
   "source": [
    "import matplotlib.pyplot as plt\n",
    "import seaborn as sns\n",
    "\n",
    "# Example: Create a histogram for a numeric column\n",
    "sns.histplot(data['Age'], bins=20, kde=True)\n",
    "plt.xlabel('Age')\n",
    "plt.ylabel('Frequency')\n",
    "plt.title('Age Distribution')\n",
    "plt.show()"
   ]
  },
  {
   "cell_type": "code",
   "execution_count": 16,
   "id": "aeff6ed9",
   "metadata": {},
   "outputs": [
    {
     "data": {
      "image/png": "[encoded data removed]",
      "text/plain": [
       "<Figure size 640x480 with 1 Axes>"
      ]
     },
     "metadata": {},
     "output_type": "display_data"
    }
   ],
   "source": [
    "# Age distribution\n",
    "sns.histplot(data['Age'], bins=20, kde=True)\n",
    "plt.title('Age Distribution')\n",
    "plt.xlabel('Age')\n",
    "plt.ylabel('Frequency')\n",
    "plt.show()\n"
   ]
  },
  {
   "cell_type": "code",
   "execution_count": 17,
   "id": "ba94db2e",
   "metadata": {},
   "outputs": [
    {
     "data": {
      "image/png": "[encoded data removed]",
      "text/plain": [
       "<Figure size 640x480 with 1 Axes>"
      ]
     },
     "metadata": {},
     "output_type": "display_data"
    }
   ],
   "source": [
    "# Gender distribution\n",
    "sns.countplot(data=data, x='Gender')\n",
    "plt.title('Gender Distribution')\n",
    "plt.xlabel('Gender')\n",
    "plt.ylabel('Count')\n",
    "plt.show()"
   ]
  },
  {
   "cell_type": "code",
   "execution_count": 18,
   "id": "05ad94e0",
   "metadata": {},
   "outputs": [],
   "source": [
    "##removing outlier using z-score\n",
    "from scipy import stats\n",
    "z_scores=stats.zscore(data['Age'])\n",
    "data=data[z_scores<3]"
   ]
  },
  {
   "cell_type": "code",
   "execution_count": 19,
   "id": "b54734fd",
   "metadata": {},
   "outputs": [
    {
     "data": {
      "text/html": [
       "<div>\n",
       "<style scoped>\n",
       "    .dataframe tbody tr th:only-of-type {\n",
       "        vertical-align: middle;\n",
       "    }\n",
       "\n",
       "    .dataframe tbody tr th {\n",
       "        vertical-align: top;\n",
       "    }\n",
       "\n",
       "    .dataframe thead th {\n",
       "        text-align: right;\n",
       "    }\n",
       "</style>\n",
       "<table border=\"1\" class=\"dataframe\">\n",
       "  <thead>\n",
       "    <tr style=\"text-align: right;\">\n",
       "      <th></th>\n",
       "      <th>Name</th>\n",
       "      <th>Age</th>\n",
       "      <th>Gender</th>\n",
       "      <th>Race</th>\n",
       "      <th>Drug</th>\n",
       "      <th>Side Effects</th>\n",
       "    </tr>\n",
       "  </thead>\n",
       "  <tbody>\n",
       "    <tr>\n",
       "      <th>0</th>\n",
       "      <td>Nicole Dalton</td>\n",
       "      <td>70</td>\n",
       "      <td>Female</td>\n",
       "      <td>Other</td>\n",
       "      <td>wymzya fe</td>\n",
       "      <td>dry mouth /nose/throat, Dizziness</td>\n",
       "    </tr>\n",
       "    <tr>\n",
       "      <th>1</th>\n",
       "      <td>Rebecca Marks</td>\n",
       "      <td>85</td>\n",
       "      <td>Female</td>\n",
       "      <td>Asian</td>\n",
       "      <td>pyrogallol crystals</td>\n",
       "      <td>Fatigue, Nausea, Bloating, Fever</td>\n",
       "    </tr>\n",
       "    <tr>\n",
       "      <th>2</th>\n",
       "      <td>Victoria Pope</td>\n",
       "      <td>82</td>\n",
       "      <td>Female</td>\n",
       "      <td>Caucasian</td>\n",
       "      <td>lysiplex plus liquid</td>\n",
       "      <td>Bloating, dry mouth /nose/throat, Nausea, Drow...</td>\n",
       "    </tr>\n",
       "    <tr>\n",
       "      <th>3</th>\n",
       "      <td>Brandon Costa</td>\n",
       "      <td>46</td>\n",
       "      <td>Male</td>\n",
       "      <td>Other</td>\n",
       "      <td>lysiplex plus liquid</td>\n",
       "      <td>constipation, Dizziness, Drowsiness, Fatigue, ...</td>\n",
       "    </tr>\n",
       "    <tr>\n",
       "      <th>4</th>\n",
       "      <td>Zachary Butler</td>\n",
       "      <td>40</td>\n",
       "      <td>Male</td>\n",
       "      <td>Other</td>\n",
       "      <td>lysteda</td>\n",
       "      <td>Fever, dry mouth /nose/throat, Nausea, Fatigue...</td>\n",
       "    </tr>\n",
       "    <tr>\n",
       "      <th>...</th>\n",
       "      <td>...</td>\n",
       "      <td>...</td>\n",
       "      <td>...</td>\n",
       "      <td>...</td>\n",
       "      <td>...</td>\n",
       "      <td>...</td>\n",
       "    </tr>\n",
       "    <tr>\n",
       "      <th>399995</th>\n",
       "      <td>Stephen Barker</td>\n",
       "      <td>34</td>\n",
       "      <td>Female</td>\n",
       "      <td>Asian</td>\n",
       "      <td>12 hour nasal relief spray ,non-aerosol</td>\n",
       "      <td>Nausea, dry mouth /nose/throat, Bloating</td>\n",
       "    </tr>\n",
       "    <tr>\n",
       "      <th>399996</th>\n",
       "      <td>Paul Harrison</td>\n",
       "      <td>51</td>\n",
       "      <td>Female</td>\n",
       "      <td>Asian</td>\n",
       "      <td>chantix</td>\n",
       "      <td>dry mouth /nose/throat, Drowsiness, Bloating, ...</td>\n",
       "    </tr>\n",
       "    <tr>\n",
       "      <th>399997</th>\n",
       "      <td>Derrick Mcdonald</td>\n",
       "      <td>87</td>\n",
       "      <td>Female</td>\n",
       "      <td>Other</td>\n",
       "      <td>lyza</td>\n",
       "      <td>Bloating, constipation, Fatigue, dry mouth /no...</td>\n",
       "    </tr>\n",
       "    <tr>\n",
       "      <th>399998</th>\n",
       "      <td>Anthony Mccormick</td>\n",
       "      <td>58</td>\n",
       "      <td>Male</td>\n",
       "      <td>Other</td>\n",
       "      <td>lysteda</td>\n",
       "      <td>Headache, Nausea, Bloating, Drowsiness, Fever,...</td>\n",
       "    </tr>\n",
       "    <tr>\n",
       "      <th>399999</th>\n",
       "      <td>Mathew Davis</td>\n",
       "      <td>26</td>\n",
       "      <td>Male</td>\n",
       "      <td>Hispanic</td>\n",
       "      <td>pyrithione zinc shampoo</td>\n",
       "      <td>dry mouth /nose/throat, Dizziness, Fatigue, Fe...</td>\n",
       "    </tr>\n",
       "  </tbody>\n",
       "</table>\n",
       "<p>400000 rows × 6 columns</p>\n",
       "</div>"
      ],
      "text/plain": [
       "                     Name  Age  Gender       Race  \\\n",
       "0           Nicole Dalton   70  Female      Other   \n",
       "1           Rebecca Marks   85  Female      Asian   \n",
       "2           Victoria Pope   82  Female  Caucasian   \n",
       "3           Brandon Costa   46    Male      Other   \n",
       "4          Zachary Butler   40    Male      Other   \n",
       "...                   ...  ...     ...        ...   \n",
       "399995     Stephen Barker   34  Female      Asian   \n",
       "399996      Paul Harrison   51  Female      Asian   \n",
       "399997   Derrick Mcdonald   87  Female      Other   \n",
       "399998  Anthony Mccormick   58    Male      Other   \n",
       "399999       Mathew Davis   26    Male   Hispanic   \n",
       "\n",
       "                                           Drug  \\\n",
       "0                                     wymzya fe   \n",
       "1                           pyrogallol crystals   \n",
       "2                          lysiplex plus liquid   \n",
       "3                          lysiplex plus liquid   \n",
       "4                                       lysteda   \n",
       "...                                         ...   \n",
       "399995  12 hour nasal relief spray ,non-aerosol   \n",
       "399996                                  chantix   \n",
       "399997                                     lyza   \n",
       "399998                                  lysteda   \n",
       "399999                  pyrithione zinc shampoo   \n",
       "\n",
       "                                             Side Effects  \n",
       "0                       dry mouth /nose/throat, Dizziness  \n",
       "1                        Fatigue, Nausea, Bloating, Fever  \n",
       "2       Bloating, dry mouth /nose/throat, Nausea, Drow...  \n",
       "3       constipation, Dizziness, Drowsiness, Fatigue, ...  \n",
       "4       Fever, dry mouth /nose/throat, Nausea, Fatigue...  \n",
       "...                                                   ...  \n",
       "399995           Nausea, dry mouth /nose/throat, Bloating  \n",
       "399996  dry mouth /nose/throat, Drowsiness, Bloating, ...  \n",
       "399997  Bloating, constipation, Fatigue, dry mouth /no...  \n",
       "399998  Headache, Nausea, Bloating, Drowsiness, Fever,...  \n",
       "399999  dry mouth /nose/throat, Dizziness, Fatigue, Fe...  \n",
       "\n",
       "[400000 rows x 6 columns]"
      ]
     },
     "execution_count": 19,
     "metadata": {},
     "output_type": "execute_result"
    }
   ],
   "source": [
    "data"
   ]
  },
  {
   "cell_type": "code",
   "execution_count": 20,
   "id": "b0cb369b",
   "metadata": {},
   "outputs": [
    {
     "data": {
      "text/plain": [
       "(400000, 6)"
      ]
     },
     "execution_count": 20,
     "metadata": {},
     "output_type": "execute_result"
    }
   ],
   "source": [
    "data.shape"
   ]
  },
  {
   "cell_type": "code",
   "execution_count": 21,
   "id": "396f69e0",
   "metadata": {},
   "outputs": [
    {
     "name": "stderr",
     "output_type": "stream",
     "text": [
      "C:\\Users\\Shamnad S\\AppData\\Local\\Temp\\ipykernel_5828\\41808132.py:1: FutureWarning: The default value of numeric_only in DataFrame.corr is deprecated. In a future version, it will default to False. Select only valid columns or specify the value of numeric_only to silence this warning.\n",
      "  correlation_matrix = data.corr()\n"
     ]
    },
    {
     "data": {
      "image/png": "[encoded data removed]",
      "text/plain": [
       "<Figure size 1000x600 with 2 Axes>"
      ]
     },
     "metadata": {},
     "output_type": "display_data"
    }
   ],
   "source": [
    "correlation_matrix = data.corr()\n",
    "plt.figure(figsize=(10, 6))\n",
    "sns.heatmap(data=correlation_matrix, annot=True, cmap='coolwarm', linewidths=.5)\n",
    "plt.title('Correlation Matrix')\n",
    "plt.show()"
   ]
  },
  {
   "cell_type": "code",
   "execution_count": 22,
   "id": "eab134e2",
   "metadata": {},
   "outputs": [
    {
     "name": "stdout",
     "output_type": "stream",
     "text": [
      "X_train shape: (320000, 9)\n",
      "X_test shape: (80000, 9)\n",
      "y_train shape: (320000,)\n",
      "y_test shape: (80000,)\n"
     ]
    }
   ],
   "source": [
    "from sklearn.preprocessing import StandardScaler, LabelEncoder\n",
    "from sklearn.model_selection import train_test_split\n",
    "le = LabelEncoder()\n",
    "data['Gender'] = le.fit_transform(data['Gender'])\n",
    "\n",
    "data = pd.get_dummies(data, columns=['Race'], prefix='Race')\n",
    "\n",
    "# 3. Feature Scaling \n",
    "scaler = StandardScaler()\n",
    "numeric_columns=data.select_dtypes(include=['number']).columns\n",
    "data[numeric_columns] = scaler.fit_transform(data[numeric_columns])\n",
    "\n",
    "# Split the dataset into features (X) and target (y)\n",
    "X = data.drop(columns=['Side Effects'])\n",
    "y = data['Side Effects']\n",
    "\n",
    "# Split the dataset into training and testing sets (adjust the test_size as needed)\n",
    "X_train, X_test, y_train, y_test = train_test_split(X, y, test_size=0.2, random_state=42)\n",
    "print(\"X_train shape:\", X_train.shape)\n",
    "print(\"X_test shape:\", X_test.shape)\n",
    "print(\"y_train shape:\", y_train.shape)\n",
    "print(\"y_test shape:\", y_test.shape)\n"
   ]
  }
 ],
 "metadata": {
  "kernelspec": {
   "display_name": "Python 3 (ipykernel)",
   "language": "python",
   "name": "python3"
  },
  "language_info": {
   "codemirror_mode": {
    "name": "ipython",
    "version": 3
   },
   "file_extension": ".py",
   "mimetype": "text/x-python",
   "name": "python",
   "nbconvert_exporter": "python",
   "pygments_lexer": "ipython3",
   "version": "3.11.3"
  }
 },
 "nbformat": 4,
 "nbformat_minor": 5
}
